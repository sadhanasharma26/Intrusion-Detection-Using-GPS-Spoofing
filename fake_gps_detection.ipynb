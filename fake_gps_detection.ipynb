{
  "metadata": {
    "kernelspec": {
      "language": "python",
      "display_name": "Python 3",
      "name": "python3"
    },
    "language_info": {
      "name": "python",
      "version": "3.7.12",
      "mimetype": "text/x-python",
      "codemirror_mode": {
        "name": "ipython",
        "version": 3
      },
      "pygments_lexer": "ipython3",
      "nbconvert_exporter": "python",
      "file_extension": ".py"
    },
    "colab": {
      "provenance": [],
      "include_colab_link": true
    }
  },
  "nbformat_minor": 0,
  "nbformat": 4,
  "cells": [
    {
      "cell_type": "markdown",
      "metadata": {
        "id": "view-in-github",
        "colab_type": "text"
      },
      "source": [
        "<a href=\"https://colab.research.google.com/github/sadhanasharma26/Intrusion-Detection-Using-GPS-Spoofing/blob/main/fake_gps_detection.ipynb\" target=\"_parent\"><img src=\"https://colab.research.google.com/assets/colab-badge.svg\" alt=\"Open In Colab\"/></a>"
      ]
    },
    {
      "cell_type": "markdown",
      "source": [
        "# ML-based Detection of Illegal GPS Spoofing using XGBoost Classifier Model"
      ],
      "metadata": {
        "id": "8wJlhwZjb5c0"
      }
    },
    {
      "cell_type": "code",
      "source": [
        "\n",
        "\n",
        "import numpy as np\n",
        "import pandas as pd\n",
        "\n",
        "\n",
        "import os\n",
        "for dirname, _, filenames in os.walk('/kaggle/input'):\n",
        "    for filename in filenames:\n",
        "        print(os.path.join(dirname, filename))\n"
      ],
      "metadata": {
        "execution": {
          "iopub.status.busy": "2021-12-07T14:39:11.905605Z",
          "iopub.execute_input": "2021-12-07T14:39:11.905943Z",
          "iopub.status.idle": "2021-12-07T14:39:11.936988Z",
          "shell.execute_reply.started": "2021-12-07T14:39:11.905854Z",
          "shell.execute_reply": "2021-12-07T14:39:11.936063Z"
        },
        "trusted": true,
        "id": "h3r3hxaOcNSK"
      },
      "execution_count": 56,
      "outputs": []
    },
    {
      "cell_type": "code",
      "source": [
        "import numpy as np\n",
        "import matplotlib.pyplot as plt\n",
        "import pandas as pd\n",
        "\n",
        "import seaborn as sns\n",
        "import missingno as msno\n",
        "import folium\n",
        "\n",
        "from sklearn.preprocessing import StandardScaler\n",
        "from sklearn.pipeline import make_pipeline\n",
        "from sklearn.model_selection import cross_validate, train_test_split, StratifiedKFold\n",
        "from sklearn.metrics import ConfusionMatrixDisplay, classification_report\n",
        "from sklearn.metrics import roc_curve, auc\n",
        "from xgboost import XGBClassifier\n",
        "\n",
        "!pip -q install utm\n",
        "import utm\n",
        "\n",
        "%config InlineBackend.figure_format = 'retina'\n"
      ],
      "metadata": {
        "id": "FgHQPoxynC9O",
        "execution": {
          "iopub.status.busy": "2021-12-07T14:46:14.127608Z",
          "iopub.execute_input": "2021-12-07T14:46:14.127881Z",
          "iopub.status.idle": "2021-12-07T14:46:14.403503Z",
          "shell.execute_reply.started": "2021-12-07T14:46:14.127853Z",
          "shell.execute_reply": "2021-12-07T14:46:14.402650Z"
        },
        "trusted": true
      },
      "execution_count": 57,
      "outputs": []
    },
    {
      "cell_type": "markdown",
      "source": [
        "# 1. Read training data"
      ],
      "metadata": {
        "id": "gp30Rg5pbwCd"
      }
    },
    {
      "cell_type": "code",
      "source": [
        "train = pd.read_csv('/content/train.csv')\n",
        "\n",
        "train"
      ],
      "metadata": {
        "id": "wOiCAW0fnUTf",
        "outputId": "9bc21d8c-c901-4b37-a320-9bc78cc724a8",
        "execution": {
          "iopub.status.busy": "2021-12-07T14:40:30.795812Z",
          "iopub.execute_input": "2021-12-07T14:40:30.796153Z",
          "iopub.status.idle": "2021-12-07T14:40:32.035368Z",
          "shell.execute_reply.started": "2021-12-07T14:40:30.796110Z",
          "shell.execute_reply": "2021-12-07T14:40:32.034280Z"
        },
        "trusted": true,
        "colab": {
          "base_uri": "https://localhost:8080/",
          "height": 617
        }
      },
      "execution_count": 58,
      "outputs": [
        {
          "output_type": "execute_result",
          "data": {
            "text/plain": [
              "       order_id service_type driver_status        date  hour     seconds  \\\n",
              "0         RB193      GO_RIDE   UNAVAILABLE  2018-02-05     6  1548890667   \n",
              "1         RB193      GO_RIDE     AVAILABLE  2018-02-05     6  1548890680   \n",
              "2         RB193      GO_RIDE     AVAILABLE  2018-02-05     6  1548890690   \n",
              "3         RB193      GO_RIDE     AVAILABLE  2018-02-05     6  1548890700   \n",
              "4         RB193      GO_RIDE     AVAILABLE  2018-02-05     6  1548890710   \n",
              "...         ...          ...           ...         ...   ...         ...   \n",
              "567540    RB261      GO_RIDE   OTW_DROPOFF  2018-03-22    13  1552803198   \n",
              "567541    RB261      GO_RIDE   OTW_DROPOFF  2018-03-22    13  1552803208   \n",
              "567542    RB261      GO_RIDE   OTW_DROPOFF  2018-03-22    13  1552803218   \n",
              "567543    RB261      GO_RIDE   OTW_DROPOFF  2018-03-22    13  1552803228   \n",
              "567544    RB261      GO_RIDE   OTW_DROPOFF  2018-03-22    13  1552803238   \n",
              "\n",
              "        latitude   longitude  altitude_in_meters  accuracy_in_meters  label  \n",
              "0      -6.922910  107.631301                 NaN              23.027      0  \n",
              "1      -6.923039  107.631250          712.000000               9.577      0  \n",
              "2      -6.923039  107.631250          712.000000               9.577      0  \n",
              "3      -6.923048  107.631230          713.000000               8.139      0  \n",
              "4      -6.922968  107.631253          713.000000               7.029      0  \n",
              "...          ...         ...                 ...                 ...    ...  \n",
              "567540 -6.889018  107.595516          798.799988              21.381      1  \n",
              "567541 -6.889020  107.595516          798.799988              19.621      1  \n",
              "567542 -6.889017  107.595526          798.799988              18.012      1  \n",
              "567543 -6.889017  107.595526          798.799988              18.012      1  \n",
              "567544 -6.889015  107.595528          798.799988              17.791      1  \n",
              "\n",
              "[567545 rows x 11 columns]"
            ],
            "text/html": [
              "\n",
              "  <div id=\"df-abe70dae-4089-4deb-8432-c00230da8b00\" class=\"colab-df-container\">\n",
              "    <div>\n",
              "<style scoped>\n",
              "    .dataframe tbody tr th:only-of-type {\n",
              "        vertical-align: middle;\n",
              "    }\n",
              "\n",
              "    .dataframe tbody tr th {\n",
              "        vertical-align: top;\n",
              "    }\n",
              "\n",
              "    .dataframe thead th {\n",
              "        text-align: right;\n",
              "    }\n",
              "</style>\n",
              "<table border=\"1\" class=\"dataframe\">\n",
              "  <thead>\n",
              "    <tr style=\"text-align: right;\">\n",
              "      <th></th>\n",
              "      <th>order_id</th>\n",
              "      <th>service_type</th>\n",
              "      <th>driver_status</th>\n",
              "      <th>date</th>\n",
              "      <th>hour</th>\n",
              "      <th>seconds</th>\n",
              "      <th>latitude</th>\n",
              "      <th>longitude</th>\n",
              "      <th>altitude_in_meters</th>\n",
              "      <th>accuracy_in_meters</th>\n",
              "      <th>label</th>\n",
              "    </tr>\n",
              "  </thead>\n",
              "  <tbody>\n",
              "    <tr>\n",
              "      <th>0</th>\n",
              "      <td>RB193</td>\n",
              "      <td>GO_RIDE</td>\n",
              "      <td>UNAVAILABLE</td>\n",
              "      <td>2018-02-05</td>\n",
              "      <td>6</td>\n",
              "      <td>1548890667</td>\n",
              "      <td>-6.922910</td>\n",
              "      <td>107.631301</td>\n",
              "      <td>NaN</td>\n",
              "      <td>23.027</td>\n",
              "      <td>0</td>\n",
              "    </tr>\n",
              "    <tr>\n",
              "      <th>1</th>\n",
              "      <td>RB193</td>\n",
              "      <td>GO_RIDE</td>\n",
              "      <td>AVAILABLE</td>\n",
              "      <td>2018-02-05</td>\n",
              "      <td>6</td>\n",
              "      <td>1548890680</td>\n",
              "      <td>-6.923039</td>\n",
              "      <td>107.631250</td>\n",
              "      <td>712.000000</td>\n",
              "      <td>9.577</td>\n",
              "      <td>0</td>\n",
              "    </tr>\n",
              "    <tr>\n",
              "      <th>2</th>\n",
              "      <td>RB193</td>\n",
              "      <td>GO_RIDE</td>\n",
              "      <td>AVAILABLE</td>\n",
              "      <td>2018-02-05</td>\n",
              "      <td>6</td>\n",
              "      <td>1548890690</td>\n",
              "      <td>-6.923039</td>\n",
              "      <td>107.631250</td>\n",
              "      <td>712.000000</td>\n",
              "      <td>9.577</td>\n",
              "      <td>0</td>\n",
              "    </tr>\n",
              "    <tr>\n",
              "      <th>3</th>\n",
              "      <td>RB193</td>\n",
              "      <td>GO_RIDE</td>\n",
              "      <td>AVAILABLE</td>\n",
              "      <td>2018-02-05</td>\n",
              "      <td>6</td>\n",
              "      <td>1548890700</td>\n",
              "      <td>-6.923048</td>\n",
              "      <td>107.631230</td>\n",
              "      <td>713.000000</td>\n",
              "      <td>8.139</td>\n",
              "      <td>0</td>\n",
              "    </tr>\n",
              "    <tr>\n",
              "      <th>4</th>\n",
              "      <td>RB193</td>\n",
              "      <td>GO_RIDE</td>\n",
              "      <td>AVAILABLE</td>\n",
              "      <td>2018-02-05</td>\n",
              "      <td>6</td>\n",
              "      <td>1548890710</td>\n",
              "      <td>-6.922968</td>\n",
              "      <td>107.631253</td>\n",
              "      <td>713.000000</td>\n",
              "      <td>7.029</td>\n",
              "      <td>0</td>\n",
              "    </tr>\n",
              "    <tr>\n",
              "      <th>...</th>\n",
              "      <td>...</td>\n",
              "      <td>...</td>\n",
              "      <td>...</td>\n",
              "      <td>...</td>\n",
              "      <td>...</td>\n",
              "      <td>...</td>\n",
              "      <td>...</td>\n",
              "      <td>...</td>\n",
              "      <td>...</td>\n",
              "      <td>...</td>\n",
              "      <td>...</td>\n",
              "    </tr>\n",
              "    <tr>\n",
              "      <th>567540</th>\n",
              "      <td>RB261</td>\n",
              "      <td>GO_RIDE</td>\n",
              "      <td>OTW_DROPOFF</td>\n",
              "      <td>2018-03-22</td>\n",
              "      <td>13</td>\n",
              "      <td>1552803198</td>\n",
              "      <td>-6.889018</td>\n",
              "      <td>107.595516</td>\n",
              "      <td>798.799988</td>\n",
              "      <td>21.381</td>\n",
              "      <td>1</td>\n",
              "    </tr>\n",
              "    <tr>\n",
              "      <th>567541</th>\n",
              "      <td>RB261</td>\n",
              "      <td>GO_RIDE</td>\n",
              "      <td>OTW_DROPOFF</td>\n",
              "      <td>2018-03-22</td>\n",
              "      <td>13</td>\n",
              "      <td>1552803208</td>\n",
              "      <td>-6.889020</td>\n",
              "      <td>107.595516</td>\n",
              "      <td>798.799988</td>\n",
              "      <td>19.621</td>\n",
              "      <td>1</td>\n",
              "    </tr>\n",
              "    <tr>\n",
              "      <th>567542</th>\n",
              "      <td>RB261</td>\n",
              "      <td>GO_RIDE</td>\n",
              "      <td>OTW_DROPOFF</td>\n",
              "      <td>2018-03-22</td>\n",
              "      <td>13</td>\n",
              "      <td>1552803218</td>\n",
              "      <td>-6.889017</td>\n",
              "      <td>107.595526</td>\n",
              "      <td>798.799988</td>\n",
              "      <td>18.012</td>\n",
              "      <td>1</td>\n",
              "    </tr>\n",
              "    <tr>\n",
              "      <th>567543</th>\n",
              "      <td>RB261</td>\n",
              "      <td>GO_RIDE</td>\n",
              "      <td>OTW_DROPOFF</td>\n",
              "      <td>2018-03-22</td>\n",
              "      <td>13</td>\n",
              "      <td>1552803228</td>\n",
              "      <td>-6.889017</td>\n",
              "      <td>107.595526</td>\n",
              "      <td>798.799988</td>\n",
              "      <td>18.012</td>\n",
              "      <td>1</td>\n",
              "    </tr>\n",
              "    <tr>\n",
              "      <th>567544</th>\n",
              "      <td>RB261</td>\n",
              "      <td>GO_RIDE</td>\n",
              "      <td>OTW_DROPOFF</td>\n",
              "      <td>2018-03-22</td>\n",
              "      <td>13</td>\n",
              "      <td>1552803238</td>\n",
              "      <td>-6.889015</td>\n",
              "      <td>107.595528</td>\n",
              "      <td>798.799988</td>\n",
              "      <td>17.791</td>\n",
              "      <td>1</td>\n",
              "    </tr>\n",
              "  </tbody>\n",
              "</table>\n",
              "<p>567545 rows × 11 columns</p>\n",
              "</div>\n",
              "    <div class=\"colab-df-buttons\">\n",
              "\n",
              "  <div class=\"colab-df-container\">\n",
              "    <button class=\"colab-df-convert\" onclick=\"convertToInteractive('df-abe70dae-4089-4deb-8432-c00230da8b00')\"\n",
              "            title=\"Convert this dataframe to an interactive table.\"\n",
              "            style=\"display:none;\">\n",
              "\n",
              "  <svg xmlns=\"http://www.w3.org/2000/svg\" height=\"24px\" viewBox=\"0 -960 960 960\">\n",
              "    <path d=\"M120-120v-720h720v720H120Zm60-500h600v-160H180v160Zm220 220h160v-160H400v160Zm0 220h160v-160H400v160ZM180-400h160v-160H180v160Zm440 0h160v-160H620v160ZM180-180h160v-160H180v160Zm440 0h160v-160H620v160Z\"/>\n",
              "  </svg>\n",
              "    </button>\n",
              "\n",
              "  <style>\n",
              "    .colab-df-container {\n",
              "      display:flex;\n",
              "      gap: 12px;\n",
              "    }\n",
              "\n",
              "    .colab-df-convert {\n",
              "      background-color: #E8F0FE;\n",
              "      border: none;\n",
              "      border-radius: 50%;\n",
              "      cursor: pointer;\n",
              "      display: none;\n",
              "      fill: #1967D2;\n",
              "      height: 32px;\n",
              "      padding: 0 0 0 0;\n",
              "      width: 32px;\n",
              "    }\n",
              "\n",
              "    .colab-df-convert:hover {\n",
              "      background-color: #E2EBFA;\n",
              "      box-shadow: 0px 1px 2px rgba(60, 64, 67, 0.3), 0px 1px 3px 1px rgba(60, 64, 67, 0.15);\n",
              "      fill: #174EA6;\n",
              "    }\n",
              "\n",
              "    .colab-df-buttons div {\n",
              "      margin-bottom: 4px;\n",
              "    }\n",
              "\n",
              "    [theme=dark] .colab-df-convert {\n",
              "      background-color: #3B4455;\n",
              "      fill: #D2E3FC;\n",
              "    }\n",
              "\n",
              "    [theme=dark] .colab-df-convert:hover {\n",
              "      background-color: #434B5C;\n",
              "      box-shadow: 0px 1px 3px 1px rgba(0, 0, 0, 0.15);\n",
              "      filter: drop-shadow(0px 1px 2px rgba(0, 0, 0, 0.3));\n",
              "      fill: #FFFFFF;\n",
              "    }\n",
              "  </style>\n",
              "\n",
              "    <script>\n",
              "      const buttonEl =\n",
              "        document.querySelector('#df-abe70dae-4089-4deb-8432-c00230da8b00 button.colab-df-convert');\n",
              "      buttonEl.style.display =\n",
              "        google.colab.kernel.accessAllowed ? 'block' : 'none';\n",
              "\n",
              "      async function convertToInteractive(key) {\n",
              "        const element = document.querySelector('#df-abe70dae-4089-4deb-8432-c00230da8b00');\n",
              "        const dataTable =\n",
              "          await google.colab.kernel.invokeFunction('convertToInteractive',\n",
              "                                                    [key], {});\n",
              "        if (!dataTable) return;\n",
              "\n",
              "        const docLinkHtml = 'Like what you see? Visit the ' +\n",
              "          '<a target=\"_blank\" href=https://colab.research.google.com/notebooks/data_table.ipynb>data table notebook</a>'\n",
              "          + ' to learn more about interactive tables.';\n",
              "        element.innerHTML = '';\n",
              "        dataTable['output_type'] = 'display_data';\n",
              "        await google.colab.output.renderOutput(dataTable, element);\n",
              "        const docLink = document.createElement('div');\n",
              "        docLink.innerHTML = docLinkHtml;\n",
              "        element.appendChild(docLink);\n",
              "      }\n",
              "    </script>\n",
              "  </div>\n",
              "\n",
              "\n",
              "<div id=\"df-dcfb76d2-3445-4c63-9ec5-d0a13281719b\">\n",
              "  <button class=\"colab-df-quickchart\" onclick=\"quickchart('df-dcfb76d2-3445-4c63-9ec5-d0a13281719b')\"\n",
              "            title=\"Suggest charts\"\n",
              "            style=\"display:none;\">\n",
              "\n",
              "<svg xmlns=\"http://www.w3.org/2000/svg\" height=\"24px\"viewBox=\"0 0 24 24\"\n",
              "     width=\"24px\">\n",
              "    <g>\n",
              "        <path d=\"M19 3H5c-1.1 0-2 .9-2 2v14c0 1.1.9 2 2 2h14c1.1 0 2-.9 2-2V5c0-1.1-.9-2-2-2zM9 17H7v-7h2v7zm4 0h-2V7h2v10zm4 0h-2v-4h2v4z\"/>\n",
              "    </g>\n",
              "</svg>\n",
              "  </button>\n",
              "\n",
              "<style>\n",
              "  .colab-df-quickchart {\n",
              "      --bg-color: #E8F0FE;\n",
              "      --fill-color: #1967D2;\n",
              "      --hover-bg-color: #E2EBFA;\n",
              "      --hover-fill-color: #174EA6;\n",
              "      --disabled-fill-color: #AAA;\n",
              "      --disabled-bg-color: #DDD;\n",
              "  }\n",
              "\n",
              "  [theme=dark] .colab-df-quickchart {\n",
              "      --bg-color: #3B4455;\n",
              "      --fill-color: #D2E3FC;\n",
              "      --hover-bg-color: #434B5C;\n",
              "      --hover-fill-color: #FFFFFF;\n",
              "      --disabled-bg-color: #3B4455;\n",
              "      --disabled-fill-color: #666;\n",
              "  }\n",
              "\n",
              "  .colab-df-quickchart {\n",
              "    background-color: var(--bg-color);\n",
              "    border: none;\n",
              "    border-radius: 50%;\n",
              "    cursor: pointer;\n",
              "    display: none;\n",
              "    fill: var(--fill-color);\n",
              "    height: 32px;\n",
              "    padding: 0;\n",
              "    width: 32px;\n",
              "  }\n",
              "\n",
              "  .colab-df-quickchart:hover {\n",
              "    background-color: var(--hover-bg-color);\n",
              "    box-shadow: 0 1px 2px rgba(60, 64, 67, 0.3), 0 1px 3px 1px rgba(60, 64, 67, 0.15);\n",
              "    fill: var(--button-hover-fill-color);\n",
              "  }\n",
              "\n",
              "  .colab-df-quickchart-complete:disabled,\n",
              "  .colab-df-quickchart-complete:disabled:hover {\n",
              "    background-color: var(--disabled-bg-color);\n",
              "    fill: var(--disabled-fill-color);\n",
              "    box-shadow: none;\n",
              "  }\n",
              "\n",
              "  .colab-df-spinner {\n",
              "    border: 2px solid var(--fill-color);\n",
              "    border-color: transparent;\n",
              "    border-bottom-color: var(--fill-color);\n",
              "    animation:\n",
              "      spin 1s steps(1) infinite;\n",
              "  }\n",
              "\n",
              "  @keyframes spin {\n",
              "    0% {\n",
              "      border-color: transparent;\n",
              "      border-bottom-color: var(--fill-color);\n",
              "      border-left-color: var(--fill-color);\n",
              "    }\n",
              "    20% {\n",
              "      border-color: transparent;\n",
              "      border-left-color: var(--fill-color);\n",
              "      border-top-color: var(--fill-color);\n",
              "    }\n",
              "    30% {\n",
              "      border-color: transparent;\n",
              "      border-left-color: var(--fill-color);\n",
              "      border-top-color: var(--fill-color);\n",
              "      border-right-color: var(--fill-color);\n",
              "    }\n",
              "    40% {\n",
              "      border-color: transparent;\n",
              "      border-right-color: var(--fill-color);\n",
              "      border-top-color: var(--fill-color);\n",
              "    }\n",
              "    60% {\n",
              "      border-color: transparent;\n",
              "      border-right-color: var(--fill-color);\n",
              "    }\n",
              "    80% {\n",
              "      border-color: transparent;\n",
              "      border-right-color: var(--fill-color);\n",
              "      border-bottom-color: var(--fill-color);\n",
              "    }\n",
              "    90% {\n",
              "      border-color: transparent;\n",
              "      border-bottom-color: var(--fill-color);\n",
              "    }\n",
              "  }\n",
              "</style>\n",
              "\n",
              "  <script>\n",
              "    async function quickchart(key) {\n",
              "      const quickchartButtonEl =\n",
              "        document.querySelector('#' + key + ' button');\n",
              "      quickchartButtonEl.disabled = true;  // To prevent multiple clicks.\n",
              "      quickchartButtonEl.classList.add('colab-df-spinner');\n",
              "      try {\n",
              "        const charts = await google.colab.kernel.invokeFunction(\n",
              "            'suggestCharts', [key], {});\n",
              "      } catch (error) {\n",
              "        console.error('Error during call to suggestCharts:', error);\n",
              "      }\n",
              "      quickchartButtonEl.classList.remove('colab-df-spinner');\n",
              "      quickchartButtonEl.classList.add('colab-df-quickchart-complete');\n",
              "    }\n",
              "    (() => {\n",
              "      let quickchartButtonEl =\n",
              "        document.querySelector('#df-dcfb76d2-3445-4c63-9ec5-d0a13281719b button');\n",
              "      quickchartButtonEl.style.display =\n",
              "        google.colab.kernel.accessAllowed ? 'block' : 'none';\n",
              "    })();\n",
              "  </script>\n",
              "</div>\n",
              "\n",
              "  <div id=\"id_241ecb06-6586-418e-a801-5102a6fedc93\">\n",
              "    <style>\n",
              "      .colab-df-generate {\n",
              "        background-color: #E8F0FE;\n",
              "        border: none;\n",
              "        border-radius: 50%;\n",
              "        cursor: pointer;\n",
              "        display: none;\n",
              "        fill: #1967D2;\n",
              "        height: 32px;\n",
              "        padding: 0 0 0 0;\n",
              "        width: 32px;\n",
              "      }\n",
              "\n",
              "      .colab-df-generate:hover {\n",
              "        background-color: #E2EBFA;\n",
              "        box-shadow: 0px 1px 2px rgba(60, 64, 67, 0.3), 0px 1px 3px 1px rgba(60, 64, 67, 0.15);\n",
              "        fill: #174EA6;\n",
              "      }\n",
              "\n",
              "      [theme=dark] .colab-df-generate {\n",
              "        background-color: #3B4455;\n",
              "        fill: #D2E3FC;\n",
              "      }\n",
              "\n",
              "      [theme=dark] .colab-df-generate:hover {\n",
              "        background-color: #434B5C;\n",
              "        box-shadow: 0px 1px 3px 1px rgba(0, 0, 0, 0.15);\n",
              "        filter: drop-shadow(0px 1px 2px rgba(0, 0, 0, 0.3));\n",
              "        fill: #FFFFFF;\n",
              "      }\n",
              "    </style>\n",
              "    <button class=\"colab-df-generate\" onclick=\"generateWithVariable('train')\"\n",
              "            title=\"Generate code using this dataframe.\"\n",
              "            style=\"display:none;\">\n",
              "\n",
              "  <svg xmlns=\"http://www.w3.org/2000/svg\" height=\"24px\"viewBox=\"0 0 24 24\"\n",
              "       width=\"24px\">\n",
              "    <path d=\"M7,19H8.4L18.45,9,17,7.55,7,17.6ZM5,21V16.75L18.45,3.32a2,2,0,0,1,2.83,0l1.4,1.43a1.91,1.91,0,0,1,.58,1.4,1.91,1.91,0,0,1-.58,1.4L9.25,21ZM18.45,9,17,7.55Zm-12,3A5.31,5.31,0,0,0,4.9,8.1,5.31,5.31,0,0,0,1,6.5,5.31,5.31,0,0,0,4.9,4.9,5.31,5.31,0,0,0,6.5,1,5.31,5.31,0,0,0,8.1,4.9,5.31,5.31,0,0,0,12,6.5,5.46,5.46,0,0,0,6.5,12Z\"/>\n",
              "  </svg>\n",
              "    </button>\n",
              "    <script>\n",
              "      (() => {\n",
              "      const buttonEl =\n",
              "        document.querySelector('#id_241ecb06-6586-418e-a801-5102a6fedc93 button.colab-df-generate');\n",
              "      buttonEl.style.display =\n",
              "        google.colab.kernel.accessAllowed ? 'block' : 'none';\n",
              "\n",
              "      buttonEl.onclick = () => {\n",
              "        google.colab.notebook.generateWithVariable('train');\n",
              "      }\n",
              "      })();\n",
              "    </script>\n",
              "  </div>\n",
              "\n",
              "    </div>\n",
              "  </div>\n"
            ],
            "application/vnd.google.colaboratory.intrinsic+json": {
              "type": "dataframe",
              "variable_name": "train"
            }
          },
          "metadata": {},
          "execution_count": 58
        }
      ]
    },
    {
      "cell_type": "markdown",
      "source": [
        "**Features description:**\n",
        "\n",
        "* order_id - an anonymous id unique to a given order number\n",
        "* service_type - service type, can be GORIDE or GOFOOD\n",
        "* driver_status - status of the driver PING, can be AVAILABLE, UNAVAILABLE, OTW_PICKUP, OTW_DROPOFF\n",
        "* hour - hour\n",
        "* seconds - seconds in linux format\n",
        "* latitude - GPS latitude\n",
        "* longitude - GPS longitude\n",
        "* altitude_in_meters - GPS Altitude\n",
        "* accuracy_in_meters - GPS Accuracy, the smaller the more accurate\n",
        "\n",
        "**Target:**\n",
        "\n",
        "label - label describing whether GPS is true (1) or fake (0)"
      ],
      "metadata": {
        "id": "0SzMoeHCc140"
      }
    },
    {
      "cell_type": "code",
      "source": [
        "train.info()"
      ],
      "metadata": {
        "id": "_Cb0vBUocrs1",
        "outputId": "98fd0699-c7fc-44c1-9302-cb322a5ce793",
        "execution": {
          "iopub.status.busy": "2021-12-07T14:40:46.839836Z",
          "iopub.execute_input": "2021-12-07T14:40:46.840640Z",
          "iopub.status.idle": "2021-12-07T14:40:47.120123Z",
          "shell.execute_reply.started": "2021-12-07T14:40:46.840597Z",
          "shell.execute_reply": "2021-12-07T14:40:47.119196Z"
        },
        "trusted": true,
        "colab": {
          "base_uri": "https://localhost:8080/"
        }
      },
      "execution_count": 59,
      "outputs": [
        {
          "output_type": "stream",
          "name": "stdout",
          "text": [
            "<class 'pandas.core.frame.DataFrame'>\n",
            "RangeIndex: 567545 entries, 0 to 567544\n",
            "Data columns (total 11 columns):\n",
            " #   Column              Non-Null Count   Dtype  \n",
            "---  ------              --------------   -----  \n",
            " 0   order_id            567545 non-null  object \n",
            " 1   service_type        567545 non-null  object \n",
            " 2   driver_status       567545 non-null  object \n",
            " 3   date                567545 non-null  object \n",
            " 4   hour                567545 non-null  int64  \n",
            " 5   seconds             567545 non-null  int64  \n",
            " 6   latitude            567545 non-null  float64\n",
            " 7   longitude           567545 non-null  float64\n",
            " 8   altitude_in_meters  413142 non-null  float64\n",
            " 9   accuracy_in_meters  567545 non-null  float64\n",
            " 10  label               567545 non-null  int64  \n",
            "dtypes: float64(4), int64(3), object(4)\n",
            "memory usage: 47.6+ MB\n"
          ]
        }
      ]
    },
    {
      "cell_type": "code",
      "source": [
        "train.isnull().sum()"
      ],
      "metadata": {
        "id": "8UvajUZZdfuC",
        "outputId": "27970a12-f1c1-4a9c-fbd0-9aac65a175b6",
        "execution": {
          "iopub.status.busy": "2021-12-07T14:40:50.116759Z",
          "iopub.execute_input": "2021-12-07T14:40:50.117021Z",
          "iopub.status.idle": "2021-12-07T14:40:50.379383Z",
          "shell.execute_reply.started": "2021-12-07T14:40:50.116994Z",
          "shell.execute_reply": "2021-12-07T14:40:50.378428Z"
        },
        "trusted": true,
        "colab": {
          "base_uri": "https://localhost:8080/",
          "height": 429
        }
      },
      "execution_count": 60,
      "outputs": [
        {
          "output_type": "execute_result",
          "data": {
            "text/plain": [
              "order_id                   0\n",
              "service_type               0\n",
              "driver_status              0\n",
              "date                       0\n",
              "hour                       0\n",
              "seconds                    0\n",
              "latitude                   0\n",
              "longitude                  0\n",
              "altitude_in_meters    154403\n",
              "accuracy_in_meters         0\n",
              "label                      0\n",
              "dtype: int64"
            ],
            "text/html": [
              "<div>\n",
              "<style scoped>\n",
              "    .dataframe tbody tr th:only-of-type {\n",
              "        vertical-align: middle;\n",
              "    }\n",
              "\n",
              "    .dataframe tbody tr th {\n",
              "        vertical-align: top;\n",
              "    }\n",
              "\n",
              "    .dataframe thead th {\n",
              "        text-align: right;\n",
              "    }\n",
              "</style>\n",
              "<table border=\"1\" class=\"dataframe\">\n",
              "  <thead>\n",
              "    <tr style=\"text-align: right;\">\n",
              "      <th></th>\n",
              "      <th>0</th>\n",
              "    </tr>\n",
              "  </thead>\n",
              "  <tbody>\n",
              "    <tr>\n",
              "      <th>order_id</th>\n",
              "      <td>0</td>\n",
              "    </tr>\n",
              "    <tr>\n",
              "      <th>service_type</th>\n",
              "      <td>0</td>\n",
              "    </tr>\n",
              "    <tr>\n",
              "      <th>driver_status</th>\n",
              "      <td>0</td>\n",
              "    </tr>\n",
              "    <tr>\n",
              "      <th>date</th>\n",
              "      <td>0</td>\n",
              "    </tr>\n",
              "    <tr>\n",
              "      <th>hour</th>\n",
              "      <td>0</td>\n",
              "    </tr>\n",
              "    <tr>\n",
              "      <th>seconds</th>\n",
              "      <td>0</td>\n",
              "    </tr>\n",
              "    <tr>\n",
              "      <th>latitude</th>\n",
              "      <td>0</td>\n",
              "    </tr>\n",
              "    <tr>\n",
              "      <th>longitude</th>\n",
              "      <td>0</td>\n",
              "    </tr>\n",
              "    <tr>\n",
              "      <th>altitude_in_meters</th>\n",
              "      <td>154403</td>\n",
              "    </tr>\n",
              "    <tr>\n",
              "      <th>accuracy_in_meters</th>\n",
              "      <td>0</td>\n",
              "    </tr>\n",
              "    <tr>\n",
              "      <th>label</th>\n",
              "      <td>0</td>\n",
              "    </tr>\n",
              "  </tbody>\n",
              "</table>\n",
              "</div><br><label><b>dtype:</b> int64</label>"
            ]
          },
          "metadata": {},
          "execution_count": 60
        }
      ]
    },
    {
      "cell_type": "code",
      "source": [
        "train.isin([0]).astype(int).sum(axis=0)"
      ],
      "metadata": {
        "id": "nOcuftv6eKzc",
        "outputId": "47046edc-8371-47f9-da2f-0c3f5cd28cec",
        "execution": {
          "iopub.status.busy": "2021-12-07T14:40:52.964912Z",
          "iopub.execute_input": "2021-12-07T14:40:52.965190Z",
          "iopub.status.idle": "2021-12-07T14:40:53.789464Z",
          "shell.execute_reply.started": "2021-12-07T14:40:52.965160Z",
          "shell.execute_reply": "2021-12-07T14:40:53.788469Z"
        },
        "trusted": true,
        "colab": {
          "base_uri": "https://localhost:8080/",
          "height": 429
        }
      },
      "execution_count": 61,
      "outputs": [
        {
          "output_type": "execute_result",
          "data": {
            "text/plain": [
              "order_id                   0\n",
              "service_type               0\n",
              "driver_status              0\n",
              "date                       0\n",
              "hour                    7233\n",
              "seconds                    0\n",
              "latitude                   0\n",
              "longitude                  0\n",
              "altitude_in_meters         0\n",
              "accuracy_in_meters         0\n",
              "label                 159461\n",
              "dtype: int64"
            ],
            "text/html": [
              "<div>\n",
              "<style scoped>\n",
              "    .dataframe tbody tr th:only-of-type {\n",
              "        vertical-align: middle;\n",
              "    }\n",
              "\n",
              "    .dataframe tbody tr th {\n",
              "        vertical-align: top;\n",
              "    }\n",
              "\n",
              "    .dataframe thead th {\n",
              "        text-align: right;\n",
              "    }\n",
              "</style>\n",
              "<table border=\"1\" class=\"dataframe\">\n",
              "  <thead>\n",
              "    <tr style=\"text-align: right;\">\n",
              "      <th></th>\n",
              "      <th>0</th>\n",
              "    </tr>\n",
              "  </thead>\n",
              "  <tbody>\n",
              "    <tr>\n",
              "      <th>order_id</th>\n",
              "      <td>0</td>\n",
              "    </tr>\n",
              "    <tr>\n",
              "      <th>service_type</th>\n",
              "      <td>0</td>\n",
              "    </tr>\n",
              "    <tr>\n",
              "      <th>driver_status</th>\n",
              "      <td>0</td>\n",
              "    </tr>\n",
              "    <tr>\n",
              "      <th>date</th>\n",
              "      <td>0</td>\n",
              "    </tr>\n",
              "    <tr>\n",
              "      <th>hour</th>\n",
              "      <td>7233</td>\n",
              "    </tr>\n",
              "    <tr>\n",
              "      <th>seconds</th>\n",
              "      <td>0</td>\n",
              "    </tr>\n",
              "    <tr>\n",
              "      <th>latitude</th>\n",
              "      <td>0</td>\n",
              "    </tr>\n",
              "    <tr>\n",
              "      <th>longitude</th>\n",
              "      <td>0</td>\n",
              "    </tr>\n",
              "    <tr>\n",
              "      <th>altitude_in_meters</th>\n",
              "      <td>0</td>\n",
              "    </tr>\n",
              "    <tr>\n",
              "      <th>accuracy_in_meters</th>\n",
              "      <td>0</td>\n",
              "    </tr>\n",
              "    <tr>\n",
              "      <th>label</th>\n",
              "      <td>159461</td>\n",
              "    </tr>\n",
              "  </tbody>\n",
              "</table>\n",
              "</div><br><label><b>dtype:</b> int64</label>"
            ]
          },
          "metadata": {},
          "execution_count": 61
        }
      ]
    },
    {
      "cell_type": "code",
      "source": [
        "from datetime import datetime\n",
        "\n",
        "train['linux_date'] = [datetime.utcfromtimestamp(s).strftime('%Y-%m-%d %H:%M:%S') for s in train.seconds.values]\n",
        "train['linux_date'] = pd.to_datetime(train['linux_date'])\n",
        "train['date'] = pd.to_datetime(train['date'])\n",
        "\n",
        "df = train['linux_date'].dt.date==train['date']\n",
        "print(df.eq(True).all())"
      ],
      "metadata": {
        "id": "xDwQQ4SGgAF9",
        "outputId": "66a48a0a-8ca4-48b7-f4a5-d2dd45c748be",
        "execution": {
          "iopub.status.busy": "2021-12-07T14:40:56.624570Z",
          "iopub.execute_input": "2021-12-07T14:40:56.625273Z",
          "iopub.status.idle": "2021-12-07T14:41:00.018325Z",
          "shell.execute_reply.started": "2021-12-07T14:40:56.625226Z",
          "shell.execute_reply": "2021-12-07T14:41:00.017296Z"
        },
        "trusted": true,
        "colab": {
          "base_uri": "https://localhost:8080/"
        }
      },
      "execution_count": 62,
      "outputs": [
        {
          "output_type": "stream",
          "name": "stdout",
          "text": [
            "False\n"
          ]
        }
      ]
    },
    {
      "cell_type": "markdown",
      "source": [
        "# 2. Data exploration"
      ],
      "metadata": {
        "id": "raCUik0rjdbh"
      }
    },
    {
      "cell_type": "code",
      "source": [
        "sns.catplot(data=train, x='driver_status', y='accuracy_in_meters', hue='label', col='service_type', kind='bar')"
      ],
      "metadata": {
        "id": "EkwUEFABnoST",
        "execution": {
          "iopub.status.busy": "2021-12-07T14:43:41.144273Z",
          "iopub.execute_input": "2021-12-07T14:43:41.144891Z",
          "iopub.status.idle": "2021-12-07T14:43:54.082915Z",
          "shell.execute_reply.started": "2021-12-07T14:43:41.144839Z",
          "shell.execute_reply": "2021-12-07T14:43:54.082035Z"
        },
        "trusted": true
      },
      "execution_count": null,
      "outputs": []
    },
    {
      "cell_type": "code",
      "source": [
        "def plot_folium(df, order_id, lat_column, lon_column, location, zoom_start=10):\n",
        "  df = df[df.order_id==order_id]\n",
        "\n",
        "  my_map = folium.Map(location=location, zoom_start=zoom_start)\n",
        "\n",
        "  for index, row in df.iterrows():\n",
        "    if row.driver_status=='UNAVAILABLE':\n",
        "      color = 'green'\n",
        "    if row.driver_status=='AVAILABLE':\n",
        "      color = 'red'\n",
        "    if row.driver_status=='OTW_PICKUP':\n",
        "      color = 'black'\n",
        "    if row.driver_status=='OTW_DROPOFF':\n",
        "      color = 'blue'\n",
        "\n",
        "    folium.CircleMarker([row[lat_column], row[lon_column]],\n",
        "                        radius=5, color=color,\n",
        "                        fill=True).add_to(my_map)\n",
        "\n",
        "  display(my_map)"
      ],
      "metadata": {
        "id": "MsrrZKTPmxqR",
        "execution": {
          "iopub.status.busy": "2021-12-07T14:45:44.527076Z",
          "iopub.execute_input": "2021-12-07T14:45:44.527373Z",
          "iopub.status.idle": "2021-12-07T14:45:44.534853Z",
          "shell.execute_reply.started": "2021-12-07T14:45:44.527342Z",
          "shell.execute_reply": "2021-12-07T14:45:44.533884Z"
        },
        "trusted": true
      },
      "execution_count": null,
      "outputs": []
    },
    {
      "cell_type": "code",
      "source": [
        "plot_folium(train, 'RB193', 'latitude', 'longitude', [-6.920, 107.630], zoom_start=16)"
      ],
      "metadata": {
        "id": "OZ1bIMbFpzkx",
        "execution": {
          "iopub.status.busy": "2021-12-07T14:46:24.185702Z",
          "iopub.execute_input": "2021-12-07T14:46:24.186009Z",
          "iopub.status.idle": "2021-12-07T14:46:24.425270Z",
          "shell.execute_reply.started": "2021-12-07T14:46:24.185974Z",
          "shell.execute_reply": "2021-12-07T14:46:24.424594Z"
        },
        "trusted": true
      },
      "execution_count": null,
      "outputs": []
    },
    {
      "cell_type": "code",
      "source": [
        "plot_folium(train, 'F842', 'latitude', 'longitude', [-6.920, 107.670], zoom_start=14)"
      ],
      "metadata": {
        "id": "HC_xAbn0nl-d",
        "execution": {
          "iopub.status.busy": "2021-12-07T14:46:33.098079Z",
          "iopub.execute_input": "2021-12-07T14:46:33.098948Z",
          "iopub.status.idle": "2021-12-07T14:46:33.437901Z",
          "shell.execute_reply.started": "2021-12-07T14:46:33.098896Z",
          "shell.execute_reply": "2021-12-07T14:46:33.436945Z"
        },
        "trusted": true
      },
      "execution_count": null,
      "outputs": []
    },
    {
      "cell_type": "markdown",
      "source": [
        "# 3. Feature engineering"
      ],
      "metadata": {
        "id": "Xs3i0dTcjKQr"
      }
    },
    {
      "cell_type": "code",
      "source": [
        "train['longitude_diff'] = train.groupby('order_id').longitude.diff().fillna(0)\n",
        "train['latitude_diff'] = train.groupby('order_id').latitude.diff().fillna(0)\n",
        "train['seconds_diff'] = train.groupby('order_id').seconds.diff().fillna(0)\n",
        "train['accuracy_diff'] = train.groupby('order_id').accuracy_in_meters.diff().fillna(0)\n",
        "train['altitude_diff'] = train.groupby('order_id').altitude_in_meters.diff().fillna(0)\n",
        "\n",
        "train"
      ],
      "metadata": {
        "id": "TfyQyiqSiqIE",
        "execution": {
          "iopub.status.busy": "2021-12-07T14:48:34.944910Z",
          "iopub.execute_input": "2021-12-07T14:48:34.945222Z",
          "iopub.status.idle": "2021-12-07T14:48:38.719413Z",
          "shell.execute_reply.started": "2021-12-07T14:48:34.945191Z",
          "shell.execute_reply": "2021-12-07T14:48:38.718456Z"
        },
        "trusted": true
      },
      "execution_count": null,
      "outputs": []
    },
    {
      "cell_type": "code",
      "source": [
        "lat, lon = train.latitude.values, train.longitude.values\n",
        "x = utm.from_latlon(lat, lon)\n",
        "\n",
        "train['UTMX'] = x[0]\n",
        "train['UTMY'] = x[1]\n",
        "\n",
        "train"
      ],
      "metadata": {
        "id": "XI6PdX8sReAE",
        "execution": {
          "iopub.status.busy": "2021-12-07T14:48:43.208769Z",
          "iopub.execute_input": "2021-12-07T14:48:43.209071Z",
          "iopub.status.idle": "2021-12-07T14:48:43.340615Z",
          "shell.execute_reply.started": "2021-12-07T14:48:43.209038Z",
          "shell.execute_reply": "2021-12-07T14:48:43.339597Z"
        },
        "trusted": true
      },
      "execution_count": null,
      "outputs": []
    },
    {
      "cell_type": "code",
      "source": [
        "distance = lambda x_dif, y_dif: np.sqrt(x_dif**2 + y_dif**2)"
      ],
      "metadata": {
        "id": "1epSuYvS7lmm",
        "execution": {
          "iopub.status.busy": "2021-12-07T14:48:48.726436Z",
          "iopub.execute_input": "2021-12-07T14:48:48.726840Z",
          "iopub.status.idle": "2021-12-07T14:48:48.731814Z",
          "shell.execute_reply.started": "2021-12-07T14:48:48.726793Z",
          "shell.execute_reply": "2021-12-07T14:48:48.730869Z"
        },
        "trusted": true
      },
      "execution_count": null,
      "outputs": []
    },
    {
      "cell_type": "code",
      "source": [
        "train['UTMX_diff'] = train.groupby('order_id').UTMX.diff().fillna(0)\n",
        "train['UTMY_diff'] = train.groupby('order_id').UTMY.diff().fillna(0)\n",
        "\n",
        "train['distance'] = distance(train.UTMX_diff, train.UTMY_diff)\n",
        "\n",
        "train['distance']"
      ],
      "metadata": {
        "id": "D49NRvI_jkdl",
        "execution": {
          "iopub.status.busy": "2021-12-07T14:48:53.570411Z",
          "iopub.execute_input": "2021-12-07T14:48:53.571164Z",
          "iopub.status.idle": "2021-12-07T14:48:55.019196Z",
          "shell.execute_reply.started": "2021-12-07T14:48:53.571122Z",
          "shell.execute_reply": "2021-12-07T14:48:55.018590Z"
        },
        "trusted": true
      },
      "execution_count": null,
      "outputs": []
    },
    {
      "cell_type": "code",
      "source": [
        "df_grouped1 = train.groupby('order_id')[['service_type', 'label']].max()\n",
        "\n",
        "df_grouped1"
      ],
      "metadata": {
        "id": "GhHy7kS3f7us",
        "execution": {
          "iopub.status.busy": "2021-12-07T14:49:07.972771Z",
          "iopub.execute_input": "2021-12-07T14:49:07.973474Z",
          "iopub.status.idle": "2021-12-07T14:49:08.568935Z",
          "shell.execute_reply.started": "2021-12-07T14:49:07.973438Z",
          "shell.execute_reply": "2021-12-07T14:49:08.567770Z"
        },
        "trusted": true
      },
      "execution_count": null,
      "outputs": []
    },
    {
      "cell_type": "code",
      "source": [
        "df_grouped1.label.value_counts().plot.pie(autopct='%.2f %%')"
      ],
      "metadata": {
        "id": "6h_Qqs8quwFg",
        "execution": {
          "iopub.status.busy": "2021-12-07T14:49:12.078114Z",
          "iopub.execute_input": "2021-12-07T14:49:12.078411Z",
          "iopub.status.idle": "2021-12-07T14:49:12.226804Z",
          "shell.execute_reply.started": "2021-12-07T14:49:12.078379Z",
          "shell.execute_reply": "2021-12-07T14:49:12.225826Z"
        },
        "trusted": true
      },
      "execution_count": null,
      "outputs": []
    },
    {
      "cell_type": "code",
      "source": [
        "\n",
        "id = list(df_grouped1.index)\n",
        "\n",
        "for num_id, order_id in enumerate(id):\n",
        "  df_id = train[train.order_id==order_id]\n",
        "  try:\n",
        "    # Select available status\n",
        "    avail = df_id[df_id.driver_status=='AVAILABLE']\n",
        "\n",
        "    # Select pickup status\n",
        "    pickup = df_id[df_id.driver_status=='OTW_PICKUP']\n",
        "\n",
        "    # Record the first and last seconds of available and pickup\n",
        "    t_avail0 = avail.seconds.values[0]\n",
        "    t_avail1 = avail.seconds.values[1]\n",
        "    t_pickup0 = pickup.seconds.values[0]\n",
        "    t_pickup1 = pickup.seconds.values[-1]\n",
        "\n",
        "    # Calculate time difference of available and pickup last and first seconds\n",
        "    avail_sec_diff = t_avail1 - t_avail0\n",
        "    pickup_sec_diff = t_pickup1 - t_pickup0\n",
        "\n",
        "  except:\n",
        "    avail_sec_diff = np.nan\n",
        "    pickup_sec_diff = np.nan\n",
        "\n",
        "  df_grouped1.loc[order_id, 'avail_sec_diff'] = avail_sec_diff\n",
        "  df_grouped1.loc[order_id, 'pickup_sec_diff'] = pickup_sec_diff\n",
        "\n",
        "  if num_id%100==0:\n",
        "    print('Finish ID:', num_id)"
      ],
      "metadata": {
        "id": "FqzaFAe5B6bS",
        "execution": {
          "iopub.status.busy": "2021-12-07T14:49:37.562762Z",
          "iopub.execute_input": "2021-12-07T14:49:37.563291Z",
          "iopub.status.idle": "2021-12-07T14:54:39.362727Z",
          "shell.execute_reply.started": "2021-12-07T14:49:37.563246Z",
          "shell.execute_reply": "2021-12-07T14:54:39.361757Z"
        },
        "trusted": true
      },
      "execution_count": null,
      "outputs": []
    },
    {
      "cell_type": "code",
      "source": [
        "df_grouped1"
      ],
      "metadata": {
        "id": "CCOGHuBXI-da",
        "execution": {
          "iopub.status.busy": "2021-12-07T14:54:39.364341Z",
          "iopub.execute_input": "2021-12-07T14:54:39.364576Z",
          "iopub.status.idle": "2021-12-07T14:54:39.383902Z",
          "shell.execute_reply.started": "2021-12-07T14:54:39.364547Z",
          "shell.execute_reply": "2021-12-07T14:54:39.382992Z"
        },
        "trusted": true
      },
      "execution_count": null,
      "outputs": []
    },
    {
      "cell_type": "code",
      "source": [
        "train = train[['order_id', 'service_type', 'driver_status', 'distance', 'hour',\n",
        "               'accuracy_in_meters', 'accuracy_diff', 'altitude_in_meters',\n",
        "               'altitude_diff', 'longitude_diff', 'latitude_diff', 'UTMX_diff',\n",
        "               'UTMY_diff', 'seconds_diff', 'label']]\n",
        "\n",
        "train"
      ],
      "metadata": {
        "id": "pb4Zse_99r9M",
        "execution": {
          "iopub.status.busy": "2021-12-07T14:58:31.171648Z",
          "iopub.execute_input": "2021-12-07T14:58:31.171943Z",
          "iopub.status.idle": "2021-12-07T14:58:31.226782Z",
          "shell.execute_reply.started": "2021-12-07T14:58:31.171912Z",
          "shell.execute_reply": "2021-12-07T14:58:31.225608Z"
        },
        "trusted": true
      },
      "execution_count": null,
      "outputs": []
    },
    {
      "cell_type": "code",
      "source": [
        "import numpy as np\n",
        "import pandas as pd\n",
        "\n",
        "iqr = lambda x: np.percentile(x, 75) - np.percentile(x, 25)\n",
        "range = lambda x: np.max(x) - np.min(x)\n",
        "\n",
        "df_grouped2 = train.iloc[:, :-1]\n",
        "\n",
        "numeric_cols = df_grouped2.select_dtypes(include=[np.number]).columns\n",
        "\n",
        "df_grouped2 = df_grouped2.groupby('order_id')[numeric_cols].agg([np.mean, np.min, np.max, np.std, iqr, range])\n",
        "\n",
        "df_grouped2.columns = ['_'.join(col).strip() for col in df_grouped2.columns.values]\n",
        "\n",
        "df_grouped2\n"
      ],
      "metadata": {
        "id": "rcy2S2asZebf",
        "execution": {
          "iopub.status.busy": "2021-12-07T14:58:35.892064Z",
          "iopub.execute_input": "2021-12-07T14:58:35.892341Z",
          "iopub.status.idle": "2021-12-07T14:58:50.164335Z",
          "shell.execute_reply.started": "2021-12-07T14:58:35.892312Z",
          "shell.execute_reply": "2021-12-07T14:58:50.163462Z"
        },
        "trusted": true
      },
      "execution_count": null,
      "outputs": []
    },
    {
      "cell_type": "code",
      "source": [
        "col_groupby2 = df_grouped2.columns\n",
        "col_groupby2 = [w.replace('<lambda_0>', 'IQR') for w in col_groupby2]\n",
        "col_groupby2 = [w.replace('<lambda_1>', 'range') for w in col_groupby2]\n",
        "\n",
        "df_grouped2.columns = col_groupby2\n",
        "\n",
        "df_grouped2"
      ],
      "metadata": {
        "id": "xkF5C_ulHlJN",
        "execution": {
          "iopub.status.busy": "2021-12-07T14:58:59.774675Z",
          "iopub.execute_input": "2021-12-07T14:58:59.774973Z",
          "iopub.status.idle": "2021-12-07T14:58:59.818104Z",
          "shell.execute_reply.started": "2021-12-07T14:58:59.774941Z",
          "shell.execute_reply": "2021-12-07T14:58:59.817222Z"
        },
        "trusted": true
      },
      "execution_count": null,
      "outputs": []
    },
    {
      "cell_type": "code",
      "source": [
        "train = pd.get_dummies(train, columns=['driver_status'])\n",
        "\n",
        "train"
      ],
      "metadata": {
        "id": "Un23em4CC295",
        "execution": {
          "iopub.status.busy": "2021-12-07T14:59:11.575360Z",
          "iopub.execute_input": "2021-12-07T14:59:11.576052Z",
          "iopub.status.idle": "2021-12-07T14:59:11.713360Z",
          "shell.execute_reply.started": "2021-12-07T14:59:11.576007Z",
          "shell.execute_reply": "2021-12-07T14:59:11.712435Z"
        },
        "trusted": true
      },
      "execution_count": null,
      "outputs": []
    },
    {
      "cell_type": "code",
      "source": [
        "df_grouped3 = train.groupby('order_id')[['driver_status_AVAILABLE', 'driver_status_OTW_DROPOFF',\n",
        "                                         'driver_status_OTW_PICKUP','driver_status_UNAVAILABLE']].sum()\n",
        "\n",
        "df_grouped3"
      ],
      "metadata": {
        "id": "aJhFu9YNFCUX",
        "execution": {
          "iopub.status.busy": "2021-12-07T14:59:16.262088Z",
          "iopub.execute_input": "2021-12-07T14:59:16.262429Z",
          "iopub.status.idle": "2021-12-07T14:59:16.389494Z",
          "shell.execute_reply.started": "2021-12-07T14:59:16.262395Z",
          "shell.execute_reply": "2021-12-07T14:59:16.388649Z"
        },
        "trusted": true
      },
      "execution_count": null,
      "outputs": []
    },
    {
      "cell_type": "code",
      "source": [
        "df_grouped4 = train[['order_id', 'altitude_in_meters']]\n",
        "\n",
        "df_grouped4['altitude_isnan'] = df_grouped4.altitude_in_meters.isnull()\n",
        "\n",
        "df_grouped4 = df_grouped4.groupby('order_id')[['altitude_isnan']].sum()\n",
        "\n",
        "df_grouped4"
      ],
      "metadata": {
        "id": "RxUq_VGhdGmo",
        "execution": {
          "iopub.status.busy": "2021-12-07T14:59:21.135171Z",
          "iopub.execute_input": "2021-12-07T14:59:21.135473Z",
          "iopub.status.idle": "2021-12-07T14:59:21.218114Z",
          "shell.execute_reply.started": "2021-12-07T14:59:21.135435Z",
          "shell.execute_reply": "2021-12-07T14:59:21.217372Z"
        },
        "trusted": true
      },
      "execution_count": null,
      "outputs": []
    },
    {
      "cell_type": "code",
      "source": [
        "df = pd.concat((df_grouped1, df_grouped2, df_grouped3, df_grouped4), axis=1)\n",
        "\n",
        "service_label = {'service_type': {'GO_FOOD': 0, 'GO_RIDE': 1}}\n",
        "df = df.replace(service_label)\n",
        "\n",
        "df"
      ],
      "metadata": {
        "id": "AWBhpMX2GIs5",
        "execution": {
          "iopub.status.busy": "2021-12-07T14:59:26.595349Z",
          "iopub.execute_input": "2021-12-07T14:59:26.596108Z",
          "iopub.status.idle": "2021-12-07T14:59:26.650933Z",
          "shell.execute_reply.started": "2021-12-07T14:59:26.596067Z",
          "shell.execute_reply": "2021-12-07T14:59:26.650076Z"
        },
        "trusted": true
      },
      "execution_count": null,
      "outputs": []
    },
    {
      "cell_type": "code",
      "source": [
        "df.corr()['label'][2:].sort_values(ascending=True).plot.bar(figsize=(14,5))"
      ],
      "metadata": {
        "id": "CwZtt8MpGf3g",
        "execution": {
          "iopub.status.busy": "2021-12-07T14:59:33.789489Z",
          "iopub.execute_input": "2021-12-07T14:59:33.789816Z",
          "iopub.status.idle": "2021-12-07T14:59:35.754286Z",
          "shell.execute_reply.started": "2021-12-07T14:59:33.789782Z",
          "shell.execute_reply": "2021-12-07T14:59:35.753640Z"
        },
        "trusted": true
      },
      "execution_count": null,
      "outputs": []
    },
    {
      "cell_type": "markdown",
      "source": [
        "# Machine learning - training and evaluation"
      ],
      "metadata": {
        "id": "JfmytPg5Q054"
      }
    },
    {
      "cell_type": "markdown",
      "source": [
        "An XGBoost classifier model is built to classify if the GPS is true (1) or fake (0)."
      ],
      "metadata": {
        "id": "7bqODekguPIN"
      }
    },
    {
      "cell_type": "code",
      "source": [
        "X = df.drop(columns=['label'])\n",
        "y = df.label\n",
        "\n",
        "# Train test split\n",
        "X_train, X_test, y_train, y_test = train_test_split(X, y, test_size=0.3, random_state=42)\n",
        "\n",
        "# Pipeline\n",
        "pipe = make_pipeline(StandardScaler(), XGBClassifier())\n",
        "\n",
        "# Define multiple scoring metrics\n",
        "scoring = {\n",
        "    'acc': 'accuracy',\n",
        "    'prec_macro': 'precision_macro',\n",
        "    'rec_macro': 'recall_macro',\n",
        "    'f1_macro': 'f1_macro'\n",
        "}\n",
        "\n",
        "# Stratified K-Fold\n",
        "stratkfold = StratifiedKFold(n_splits=5, shuffle=True, random_state=42)\n",
        "\n",
        "# Cross-validation.Ignore the warning\n",
        "cv_scores = cross_validate(pipe, X_train, y_train, cv=stratkfold, scoring=scoring)"
      ],
      "metadata": {
        "id": "-n7dW7gcRH5G",
        "execution": {
          "iopub.status.busy": "2021-12-07T15:01:58.737333Z",
          "iopub.execute_input": "2021-12-07T15:01:58.737637Z",
          "iopub.status.idle": "2021-12-07T15:02:06.700506Z",
          "shell.execute_reply.started": "2021-12-07T15:01:58.737606Z",
          "shell.execute_reply": "2021-12-07T15:02:06.699836Z"
        },
        "trusted": true
      },
      "execution_count": null,
      "outputs": []
    },
    {
      "cell_type": "markdown",
      "source": [
        "The CV scores show all mean precision, recall, and F1-score of 79%."
      ],
      "metadata": {
        "id": "ZNdwuwyncNSR"
      }
    },
    {
      "cell_type": "code",
      "source": [
        "# Print scoring results from dictionary\n",
        "for metric_name, metric_value in cv_scores.items():\n",
        "    mean = np.mean(metric_value)\n",
        "    print(f'{metric_name}: {np.round(metric_value, 4)}, Mean: {np.round(mean, 4)}')"
      ],
      "metadata": {
        "execution": {
          "iopub.status.busy": "2021-12-07T15:02:15.288214Z",
          "iopub.execute_input": "2021-12-07T15:02:15.288480Z",
          "iopub.status.idle": "2021-12-07T15:02:15.296775Z",
          "shell.execute_reply.started": "2021-12-07T15:02:15.288452Z",
          "shell.execute_reply": "2021-12-07T15:02:15.295791Z"
        },
        "trusted": true,
        "id": "xrLkJEVHcNSR"
      },
      "execution_count": null,
      "outputs": []
    },
    {
      "cell_type": "code",
      "source": [
        "# Fit pipeline to train set\n",
        "pipe.fit(X_train, y_train)\n",
        "\n",
        "# Predict on test set\n",
        "y_pred = pipe.predict(X_test)"
      ],
      "metadata": {
        "id": "-b_W0_8Bob5C",
        "execution": {
          "iopub.status.busy": "2021-12-07T15:04:59.859948Z",
          "iopub.execute_input": "2021-12-07T15:04:59.860280Z",
          "iopub.status.idle": "2021-12-07T15:05:01.821763Z",
          "shell.execute_reply.started": "2021-12-07T15:04:59.860244Z",
          "shell.execute_reply": "2021-12-07T15:05:01.821077Z"
        },
        "trusted": true
      },
      "execution_count": null,
      "outputs": []
    },
    {
      "cell_type": "code",
      "source": [
        "# Save pipeline into pickle\n",
        "import joblib\n",
        "joblib.dump(pipe, './hons_xgboost.pkl')"
      ],
      "metadata": {
        "id": "dIyoOiI0JzAY",
        "execution": {
          "iopub.status.busy": "2021-12-07T15:05:15.575593Z",
          "iopub.execute_input": "2021-12-07T15:05:15.575909Z",
          "iopub.status.idle": "2021-12-07T15:05:15.597709Z",
          "shell.execute_reply.started": "2021-12-07T15:05:15.575874Z",
          "shell.execute_reply": "2021-12-07T15:05:15.597065Z"
        },
        "trusted": true
      },
      "execution_count": null,
      "outputs": []
    },
    {
      "cell_type": "code",
      "source": [
        "from sklearn.metrics import confusion_matrix, ConfusionMatrixDisplay\n",
        "\n",
        "y_pred = pipe.predict(X_test)\n",
        "cm = confusion_matrix(y_test, y_pred)\n",
        "disp = ConfusionMatrixDisplay(confusion_matrix=cm, display_labels=pipe.classes_)\n",
        "disp.plot(values_format='.5g')\n",
        "plt.show()\n"
      ],
      "metadata": {
        "id": "FOxDgBoTogND",
        "execution": {
          "iopub.status.busy": "2021-12-07T15:05:25.730133Z",
          "iopub.execute_input": "2021-12-07T15:05:25.730450Z",
          "iopub.status.idle": "2021-12-07T15:05:26.020611Z",
          "shell.execute_reply.started": "2021-12-07T15:05:25.730418Z",
          "shell.execute_reply": "2021-12-07T15:05:26.019791Z"
        },
        "trusted": true
      },
      "execution_count": null,
      "outputs": []
    },
    {
      "cell_type": "code",
      "source": [
        "# Classification report\n",
        "print(classification_report(y_test, y_pred))"
      ],
      "metadata": {
        "id": "4cMvK_3DpTnE",
        "execution": {
          "iopub.status.busy": "2021-12-07T15:05:30.279613Z",
          "iopub.execute_input": "2021-12-07T15:05:30.280760Z",
          "iopub.status.idle": "2021-12-07T15:05:30.292656Z",
          "shell.execute_reply.started": "2021-12-07T15:05:30.280708Z",
          "shell.execute_reply": "2021-12-07T15:05:30.291625Z"
        },
        "trusted": true
      },
      "execution_count": null,
      "outputs": []
    },
    {
      "cell_type": "code",
      "source": [
        "# Generate class membership probabilities\n",
        "y_pred_probs = pipe.predict_proba(X_test)\n",
        "\n",
        "classes = [0,1]\n",
        "\n",
        "# For each class\n",
        "for i, clas in enumerate(classes):\n",
        "  # Calculate False Positive Rate, True Negative Rate\n",
        "  fpr, tpr, thresholds = roc_curve(y_test, y_pred_probs[:,i],\n",
        "                                   pos_label = clas)\n",
        "\n",
        "  # Calculate AUC\n",
        "  auroc = auc(fpr, tpr)\n",
        "\n",
        "  # Plot ROC AUC curve for each class\n",
        "  plt.plot(fpr, tpr, label=f'{clas}, AUC: {auroc:.2f}')\n",
        "  plt.plot([0, 1], [0, 1], 'k--')\n",
        "\n",
        "plt.title('ROC AUC')\n",
        "plt.xlabel('FPR'); plt.ylabel('TPR')\n",
        "plt.xlim(0,1); plt.ylim(0,1)\n",
        "plt.legend()\n",
        "plt.show()"
      ],
      "metadata": {
        "id": "WYduyZ7Upii4",
        "execution": {
          "iopub.status.busy": "2021-12-07T15:05:34.692843Z",
          "iopub.execute_input": "2021-12-07T15:05:34.693277Z",
          "iopub.status.idle": "2021-12-07T15:05:34.971270Z",
          "shell.execute_reply.started": "2021-12-07T15:05:34.693241Z",
          "shell.execute_reply": "2021-12-07T15:05:34.970352Z"
        },
        "trusted": true
      },
      "execution_count": null,
      "outputs": []
    },
    {
      "cell_type": "code",
      "source": [
        "# Create a pd.Series of features importances\n",
        "fimp = pipe.steps[1][1].feature_importances_\n",
        "importances = pd.Series(data=fimp,\n",
        "                        index= X_train.columns)\n",
        "\n",
        "# Sort importances\n",
        "importances_sorted = importances.sort_values()[-15:]\n",
        "\n",
        "# Draw a horizontal barplot of importances_sorted\n",
        "importances_sorted.plot(kind='barh', color='red')\n",
        "plt.title('Features Importances')\n",
        "plt.show()"
      ],
      "metadata": {
        "id": "iHM8ivPmvbYm",
        "execution": {
          "iopub.status.busy": "2021-12-07T15:05:39.352924Z",
          "iopub.execute_input": "2021-12-07T15:05:39.353236Z",
          "iopub.status.idle": "2021-12-07T15:05:39.694965Z",
          "shell.execute_reply.started": "2021-12-07T15:05:39.353200Z",
          "shell.execute_reply": "2021-12-07T15:05:39.694092Z"
        },
        "trusted": true
      },
      "execution_count": null,
      "outputs": []
    },
    {
      "cell_type": "markdown",
      "source": [
        "# Predict on test set"
      ],
      "metadata": {
        "id": "6Y1ceCp4xOQe"
      }
    },
    {
      "cell_type": "markdown",
      "source": [
        "Creating a function to transform the test data by grouping by each order ID and engineer 74 new features."
      ],
      "metadata": {
        "id": "BMb5LT4KcNSS"
      }
    },
    {
      "cell_type": "code",
      "source": [
        "def hons_transform(df):\n",
        "  # Differencing some columns\n",
        "  df['longitude_diff'] = df.groupby('order_id').longitude.diff().fillna(0)\n",
        "  df['latitude_diff'] = df.groupby('order_id').latitude.diff().fillna(0)\n",
        "  df['seconds_diff'] = df.groupby('order_id').seconds.diff().fillna(0)\n",
        "  df['accuracy_diff'] = df.groupby('order_id').accuracy_in_meters.diff().fillna(0)\n",
        "  df['altitude_diff'] = df.groupby('order_id').altitude_in_meters.diff().fillna(0)\n",
        "\n",
        "  # Convert lat lon to UTM\n",
        "  lat, lon = df.latitude.values, df.longitude.values\n",
        "  x = utm.from_latlon(lat, lon)\n",
        "\n",
        "  df['UTMX'] = x[0]\n",
        "  df['UTMY'] = x[1]\n",
        "\n",
        "  # Function to calculate distance between two points\n",
        "  distance = lambda x_dif, y_dif: np.sqrt(x_dif**2 + y_dif**2)\n",
        "\n",
        "  # Differencing UTM coordinates\n",
        "  df['UTMX_diff'] = df.groupby('order_id').UTMX.diff().fillna(0)\n",
        "  df['UTMY_diff'] = df.groupby('order_id').UTMY.diff().fillna(0)\n",
        "\n",
        "  # Calculate step distance\n",
        "  df['distance'] = distance(df.UTMX_diff, df.UTMY_diff)\n",
        "\n",
        "  # Grouping by order ID to get service type and label\n",
        "  df_grouped1 = df.groupby('order_id')[['service_type']].max()\n",
        "\n",
        "  # Calculate time difference between available and otw pickup status\n",
        "  id = list(df_grouped1.index)\n",
        "\n",
        "  for num_id, order_id in enumerate(id):\n",
        "    # Select dataframe subset w.r.t. order id\n",
        "    df_id = df[df.order_id==order_id]\n",
        "    try:\n",
        "      # Select available status\n",
        "      avail = df_id[df_id.driver_status=='AVAILABLE']\n",
        "\n",
        "      # Select pickup status\n",
        "      pickup = df_id[df_id.driver_status=='OTW_PICKUP']\n",
        "\n",
        "      # Record the first and last seconds of available and pickup\n",
        "      t_avail0 = avail.seconds.values[0]\n",
        "      t_avail1 = avail.seconds.values[1]\n",
        "      t_pickup0 = pickup.seconds.values[0]\n",
        "      t_pickup1 = pickup.seconds.values[-1]\n",
        "\n",
        "      # Calculate time difference of available and pickup last and first seconds\n",
        "      avail_sec_diff = t_avail1 - t_avail0\n",
        "      pickup_sec_diff = t_pickup1 - t_pickup0\n",
        "\n",
        "    except:\n",
        "      # Set time difference to Null of there is no available/pickup status\n",
        "      avail_sec_diff = np.nan\n",
        "      pickup_sec_diff = np.nan\n",
        "\n",
        "    # Record time difference to df_grouped1\n",
        "    df_grouped1.loc[order_id, 'avail_sec_diff'] = avail_sec_diff\n",
        "    df_grouped1.loc[order_id, 'pickup_sec_diff'] = pickup_sec_diff\n",
        "\n",
        "  df = df[['order_id', 'service_type', 'driver_status', 'distance', 'hour',\n",
        "            'accuracy_in_meters', 'accuracy_diff', 'altitude_in_meters',\n",
        "            'altitude_diff', 'longitude_diff', 'latitude_diff', 'UTMX_diff',\n",
        "            'UTMY_diff', 'seconds_diff']]\n",
        "\n",
        "  # Interquartile and range function\n",
        "  iqr = lambda x: np.percentile(x, 75) - np.percentile(x, 25)\n",
        "  range = lambda x: np.max(x) - np.min(x)\n",
        "\n",
        "  # Calculate summary statistics\n",
        "  df_grouped2 = df.groupby('order_id').aggregate([np.mean, np.min, np.max, np.std, iqr, range])\n",
        "\n",
        "  # Reduce multi-index\n",
        "  df_grouped2.columns = ['_'.join(col).strip() for col in df_grouped2.columns.values]\n",
        "\n",
        "  # Replace column name <lambda_0> to IQR and <lambda_1> to range\n",
        "  col_groupby2 = df_grouped2.columns\n",
        "  col_groupby2 = [w.replace('<lambda_0>', 'IQR') for w in col_groupby2]\n",
        "  col_groupby2 = [w.replace('<lambda_1>', 'range') for w in col_groupby2]\n",
        "\n",
        "  # Update names of columns\n",
        "  df_grouped2.columns = col_groupby2\n",
        "\n",
        "  # Get dummies of driver status\n",
        "  df = pd.get_dummies(df, columns=['driver_status'])\n",
        "\n",
        "  # Count number of PING by driver status\n",
        "  df_grouped3 = df.groupby('order_id')[['driver_status_AVAILABLE', 'driver_status_OTW_DROPOFF',\n",
        "                                          'driver_status_OTW_PICKUP','driver_status_UNAVAILABLE']].sum()\n",
        "  df_grouped4 = df[['order_id', 'altitude_in_meters']]\n",
        "\n",
        "  # Check for each row if altitude is Null\n",
        "  df_grouped4['altitude_isnan'] = df_grouped4.altitude_in_meters.isnull()\n",
        "\n",
        "  df_grouped4 = df_grouped4.groupby('order_id')[['altitude_isnan']].sum()\n",
        "\n",
        "  # Merge all grouped dataframe\n",
        "  df = pd.concat((df_grouped1, df_grouped2, df_grouped3, df_grouped4), axis=1)\n",
        "\n",
        "  # Encode service_type\n",
        "  service_label = {'service_type': {'GO_FOOD': 0, 'GO_RIDE': 1}}\n",
        "  df = df.replace(service_label)\n",
        "\n",
        "  return df"
      ],
      "metadata": {
        "id": "hNm4tpoh9H1s",
        "execution": {
          "iopub.status.busy": "2021-12-07T15:11:04.420771Z",
          "iopub.execute_input": "2021-12-07T15:11:04.421106Z",
          "iopub.status.idle": "2021-12-07T15:11:04.445284Z",
          "shell.execute_reply.started": "2021-12-07T15:11:04.421068Z",
          "shell.execute_reply": "2021-12-07T15:11:04.444008Z"
        },
        "trusted": true
      },
      "execution_count": null,
      "outputs": []
    },
    {
      "cell_type": "code",
      "source": [
        "# Read test set\n",
        "test = pd.read_csv('/content/test.csv')\n",
        "\n",
        "test"
      ],
      "metadata": {
        "id": "ZLjfobSgxdub",
        "execution": {
          "iopub.status.busy": "2021-12-07T15:11:17.882622Z",
          "iopub.execute_input": "2021-12-07T15:11:17.882909Z",
          "iopub.status.idle": "2021-12-07T15:11:18.085982Z",
          "shell.execute_reply.started": "2021-12-07T15:11:17.882879Z",
          "shell.execute_reply": "2021-12-07T15:11:18.085013Z"
        },
        "trusted": true
      },
      "execution_count": null,
      "outputs": []
    },
    {
      "cell_type": "markdown",
      "source": [
        "After transformation, the size of test set is (500, 74) where 500=number of order ID and 74=number of new features."
      ],
      "metadata": {
        "id": "fUmQwIUncNSS"
      }
    },
    {
      "cell_type": "code",
      "source": [
        "def hons_data_transform(data):\n",
        "    transformed_data = data.copy()\n",
        "    return transformed_data\n",
        "\n",
        "test_ready = hons_data_transform(test)\n",
        "\n",
        "print(f\"Shape of transformed test set: {test_ready.shape}\")\n",
        "print(test_ready.head())"
      ],
      "metadata": {
        "id": "gs8rW7Pz9PbS",
        "execution": {
          "iopub.status.busy": "2021-12-07T15:11:23.502712Z",
          "iopub.execute_input": "2021-12-07T15:11:23.502985Z",
          "iopub.status.idle": "2021-12-07T15:11:33.574631Z",
          "shell.execute_reply.started": "2021-12-07T15:11:23.502956Z",
          "shell.execute_reply": "2021-12-07T15:11:33.573601Z"
        },
        "trusted": true
      },
      "execution_count": null,
      "outputs": []
    }
  ]
}